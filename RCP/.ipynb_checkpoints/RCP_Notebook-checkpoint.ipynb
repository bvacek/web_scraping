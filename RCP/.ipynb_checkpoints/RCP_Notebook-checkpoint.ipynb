{
 "cells": [
  {
   "cell_type": "code",
   "execution_count": 14,
   "metadata": {},
   "outputs": [],
   "source": [
    "import numpy as np\n",
    "import pandas as pd\n",
    "import matplotlib.pyplot as plt"
   ]
  },
  {
   "cell_type": "code",
   "execution_count": 4,
   "metadata": {},
   "outputs": [
    {
     "data": {
      "text/html": [
       "<div>\n",
       "<style>\n",
       "    .dataframe thead tr:only-child th {\n",
       "        text-align: right;\n",
       "    }\n",
       "\n",
       "    .dataframe thead th {\n",
       "        text-align: left;\n",
       "    }\n",
       "\n",
       "    .dataframe tbody tr th {\n",
       "        vertical-align: top;\n",
       "    }\n",
       "</style>\n",
       "<table border=\"1\" class=\"dataframe\">\n",
       "  <thead>\n",
       "    <tr style=\"text-align: right;\">\n",
       "      <th></th>\n",
       "      <th>date</th>\n",
       "      <th>title</th>\n",
       "      <th>source</th>\n",
       "      <th>author</th>\n",
       "      <th>link</th>\n",
       "    </tr>\n",
       "  </thead>\n",
       "  <tbody>\n",
       "    <tr>\n",
       "      <th>0</th>\n",
       "      <td>2018/12/11</td>\n",
       "      <td>Republicans, Don't Break Our Democracy</td>\n",
       "      <td>CNN</td>\n",
       "      <td>Tom Perez</td>\n",
       "      <td>https://www.realclearpolitics.com/2018/12/11/r...</td>\n",
       "    </tr>\n",
       "    <tr>\n",
       "      <th>1</th>\n",
       "      <td>2018/12/11</td>\n",
       "      <td>Build the Wall--Do What We Said We'd Do</td>\n",
       "      <td>FOX News</td>\n",
       "      <td>Reps. Jordan</td>\n",
       "      <td>https://www.realclearpolitics.com/2018/12/11/b...</td>\n",
       "    </tr>\n",
       "    <tr>\n",
       "      <th>2</th>\n",
       "      <td>2018/12/11</td>\n",
       "      <td>Why Democrats Need Nancy Pelosi as Speaker</td>\n",
       "      <td>USA Today</td>\n",
       "      <td>Jill Lawrence</td>\n",
       "      <td>https://www.realclearpolitics.com/2018/12/11/w...</td>\n",
       "    </tr>\n",
       "    <tr>\n",
       "      <th>3</th>\n",
       "      <td>2018/12/11</td>\n",
       "      <td>Will the Leakers in the Flynn Case Escape Just...</td>\n",
       "      <td>American Greatness</td>\n",
       "      <td>Julie Kelly</td>\n",
       "      <td>https://www.realclearpolitics.com/2018/12/11/w...</td>\n",
       "    </tr>\n",
       "    <tr>\n",
       "      <th>4</th>\n",
       "      <td>2018/12/11</td>\n",
       "      <td>What Has the President Been 'Smocking'?</td>\n",
       "      <td>Washington Post</td>\n",
       "      <td>Eugene Robinson</td>\n",
       "      <td>https://www.realclearpolitics.com/2018/12/11/w...</td>\n",
       "    </tr>\n",
       "  </tbody>\n",
       "</table>\n",
       "</div>"
      ],
      "text/plain": [
       "         date                                              title  \\\n",
       "0  2018/12/11             Republicans, Don't Break Our Democracy   \n",
       "1  2018/12/11            Build the Wall--Do What We Said We'd Do   \n",
       "2  2018/12/11         Why Democrats Need Nancy Pelosi as Speaker   \n",
       "3  2018/12/11  Will the Leakers in the Flynn Case Escape Just...   \n",
       "4  2018/12/11            What Has the President Been 'Smocking'?   \n",
       "\n",
       "               source           author  \\\n",
       "0                 CNN        Tom Perez   \n",
       "1            FOX News     Reps. Jordan   \n",
       "2           USA Today    Jill Lawrence   \n",
       "3  American Greatness      Julie Kelly   \n",
       "4     Washington Post  Eugene Robinson   \n",
       "\n",
       "                                                link  \n",
       "0  https://www.realclearpolitics.com/2018/12/11/r...  \n",
       "1  https://www.realclearpolitics.com/2018/12/11/b...  \n",
       "2  https://www.realclearpolitics.com/2018/12/11/w...  \n",
       "3  https://www.realclearpolitics.com/2018/12/11/w...  \n",
       "4  https://www.realclearpolitics.com/2018/12/11/w...  "
      ]
     },
     "execution_count": 4,
     "metadata": {},
     "output_type": "execute_result"
    }
   ],
   "source": [
    "rcp_df = pd.read_csv('rcp.csv')\n",
    "rcp_df.head()"
   ]
  },
  {
   "cell_type": "code",
   "execution_count": 30,
   "metadata": {},
   "outputs": [
    {
     "data": {
      "image/png": "[encoded data removed]",
      "text/plain": [
       "<matplotlib.figure.Figure at 0x207b6871fd0>"
      ]
     },
     "metadata": {},
     "output_type": "display_data"
    }
   ],
   "source": [
    "rcp_df['source'].value_counts().head(10).plot.bar()\n",
    "plt.title('Sources')\n",
    "plt.show()"
   ]
  }
 ],
 "metadata": {
  "kernelspec": {
   "display_name": "Python 3",
   "language": "python",
   "name": "python3"
  },
  "language_info": {
   "codemirror_mode": {
    "name": "ipython",
    "version": 3
   },
   "file_extension": ".py",
   "mimetype": "text/x-python",
   "name": "python",
   "nbconvert_exporter": "python",
   "pygments_lexer": "ipython3",
   "version": "3.6.1"
  }
 },
 "nbformat": 4,
 "nbformat_minor": 2
}
